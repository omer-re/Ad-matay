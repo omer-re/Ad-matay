{
 "cells": [
  {
   "cell_type": "code",
   "execution_count": 47,
   "metadata": {},
   "outputs": [],
   "source": [
    "import os\n",
    "import time\n",
    "import timeit\n",
    "\n",
    "import cv2\n",
    "import imutils\n",
    "import numpy as np\n",
    "from PIL import Image, ImageChops\n",
    "import matplotlib.pyplot as plt\n",
    "from skimage.metrics import structural_similarity\n",
    "import random as rng\n",
    "import inspect\n",
    "\n",
    "%matplotlib inline"
   ]
  },
  {
   "cell_type": "code",
   "execution_count": 48,
   "metadata": {},
   "outputs": [],
   "source": [
    "def display(img,cmap='gray'):\n",
    "    fig = plt.figure(figsize=(12,10))\n",
    "    ax = fig.add_subplot(111)\n",
    "    ax.title.set_text(retrieve_name(img))\n",
    "    ax.imshow(img,cmap='gray')\n",
    "    \n",
    "\n",
    "\n",
    "def retrieve_name(var):\n",
    "        \"\"\"\n",
    "        Gets the name of var. Does it from the out most frame inner-wards.\n",
    "        :param var: variable to get name from.\n",
    "        :return: string\n",
    "        \"\"\"\n",
    "        for fi in reversed(inspect.stack()):\n",
    "            names = [var_name for var_name, var_val in fi.frame.f_locals.items() if var_val is var]\n",
    "            if len(names) > 0:\n",
    "                return names[0]"
   ]
  },
  {
   "cell_type": "code",
   "execution_count": 49,
   "metadata": {},
   "outputs": [],
   "source": [
    "def get_intersect(a1, a2, b1, b2):\n",
    "    \"\"\" \n",
    "    source: https://stackoverflow.com/questions/3252194/numpy-and-line-intersections\n",
    "    Returns the point of intersection of the lines passing through a2,a1 and b2,b1.\n",
    "    a1: [x, y] a point on the first line\n",
    "    a2: [x, y] another point on the first line\n",
    "    b1: [x, y] a point on the second line\n",
    "    b2: [x, y] another point on the second line\n",
    "    \"\"\"\n",
    "    s = np.vstack([a1,a2,b1,b2])        # s for stacked\n",
    "    h = np.hstack((s, np.ones((4, 1)))) # h for homogeneous\n",
    "    l1 = np.cross(h[0], h[1])           # get first line\n",
    "    l2 = np.cross(h[2], h[3])           # get second line\n",
    "    x, y, z = np.cross(l1, l2)          # point of intersection\n",
    "    if z == 0:                          # lines are parallel\n",
    "        return (float('inf'), float('inf'))\n",
    "    return (x/z, y/z)\n"
   ]
  },
  {
   "cell_type": "code",
   "execution_count": 65,
   "metadata": {},
   "outputs": [],
   "source": [
    "class adMatay:\n",
    "    room_frame1 = r'samples/test_diff/ch12_f1.png' #image file path\n",
    "    room_frame2 = r'samples/test_diff/ch12_f2.png' #image file path\n",
    "    mask_np_array=None # numpy array\n",
    "    mask_contours=None # ndarray\n",
    "    mask_img=None # cv2\n",
    "    \n",
    "    top_right_intersection=None\n",
    "    top_left_intersection=None\n",
    "    bottom_right_intersection=None\n",
    "    bottom_left_intersection=None\n",
    "    \n",
    "    \n",
    "    def get_corners(self, np_image):\n",
    "        # Find the top, bottom, left , and right.\n",
    "        # Then make sure they are in tuple format\n",
    "        top1    = tuple(np_image[np_image[:, :, 1].argmin()][0])\n",
    "        top2    =tuple(np_image[np_image[:, :, 1].argmin()][1])\n",
    "        \n",
    "        bottom1 = tuple(np_image[np_image[:, :, 1].argmax()][0])\n",
    "        bottom2 = tuple(np_image[np_image[:, :, 1].argmax()][1])\n",
    "\n",
    "        left1   = tuple(np_image[np_image[:, :, 0].argmin()][0])\n",
    "        left2   = tuple(np_image[np_image[:, :, 0].argmin()][1])\n",
    "\n",
    "        right1  = tuple(np_image[np_image[:, :, 0].argmax()][0])\n",
    "        right2  = tuple(np_image[np_image[:, :, 0].argmax()][1])\n",
    "        \n",
    "        self.top_right_intersection=get_intersect(top1,top2,right1,right2)\n",
    "        self.top_left_intersection=get_intersect(top1,top2,left1,left2)\n",
    "        self.bottom_right_intersection=get_intersect(bottom,bottom2,right1,right2)\n",
    "        self.bottom_left_intersection=get_intersect(bottom,bottom2,left1,left2)\n",
    "        return\n",
    "    \n",
    "    \n",
    "    \n",
    "    # take 2 frames and returns a mask of the diff\n",
    "    def get_diff_frames(self):\n",
    "        frame1 = cv2.imread(self.room_frame1)\n",
    "        frame2 = cv2.imread(self.room_frame2)\n",
    "        # Convert images to grayscale\n",
    "        before_gray = cv2.cvtColor(frame1, cv2.COLOR_BGR2GRAY)\n",
    "        after_gray = cv2.cvtColor(frame2, cv2.COLOR_BGR2GRAY)\n",
    "        \n",
    "        # Compute SSIM between two images\n",
    "        (score, diff) = structural_similarity(before_gray, after_gray, full=True, gaussian_weights=True, sigma=2.5, use_sample_covariance=False, data_range=255)\n",
    "        print(\"Image similarity\", score)    \n",
    "        \n",
    "\n",
    "        # The diff image contains the actual image differences between the two images\n",
    "        # and is represented as a floating point data type in the range [0,1]\n",
    "        # so we must convert the array to 8-bit unsigned integers in the range\n",
    "        # [0,255] before we can use it with OpenCV\n",
    "        diff = (diff * 255).astype(\"uint8\")\n",
    "        \n",
    "        # Threshold the difference image, followed by finding contours to\n",
    "        # obtain the regions of the two input images that differ\n",
    "        thresh = cv2.threshold(diff, 0, 255, cv2.THRESH_BINARY_INV | cv2.THRESH_OTSU)[1]\n",
    "        contours = cv2.findContours(thresh.copy(), cv2.RETR_EXTERNAL, cv2.CHAIN_APPROX_SIMPLE)\n",
    "\n",
    "        cnts=contours\n",
    "        contours = contours[0] if len(contours) == 2 else contours[1]\n",
    "        mask = np.zeros(frame1.shape, dtype='uint8')\n",
    "        print(type(mask))\n",
    "        self.mask_contours=contours.copy()\n",
    "        frame_roi_cv2 = np.array(mask)\n",
    "        frame_roi_cv2 = frame_roi_cv2[:, :, ::-1].copy()\n",
    "        self.mask_img=frame_roi_cv2\n",
    "        self.mask_np_array=mask.copy()\n",
    "        \n",
    "        c = max(contours, key = cv2.contourArea)\n",
    "        x,y,w,h = cv2.boundingRect(c)\n",
    "        print(x,y,w,h)\n",
    "        cv2.drawContours(mask, [c], 0, (0,255,10), -1)\n",
    "        #cv2.rectangle(mask,(x,y),(x+w,y+h),(155,0,155),1)\n",
    "\n",
    "#         display(frame1)\n",
    "#         display(frame2)\n",
    "        display(mask)\n",
    "    \n",
    "        self.get_corners(mask)\n",
    "        cv2.circle(img=mask, center = top_right_intersection, radius =5, color =(100,100,100), thickness=-1)\n",
    "        cv2.circle(img=mask, center = top_left_intersection, radius =5, color =(100,100,100), thickness=-1)\n",
    "        cv2.circle(img=mask, center = bottom_right_intersection, radius =5, color =(100,100,100), thickness=-1)\n",
    "        cv2.circle(img=mask, center = bottom_left_intersection, radius =5, color =(100,100,100), thickness=-1)\n",
    "\n",
    "        \n",
    "    \n",
    "    ## above works\n",
    "\n",
    "        mask2=mask.copy()\n",
    "\n",
    "        # Getting the biggest contour\n",
    "        if len(contours) != 0:\n",
    "            # draw in blue the contours that were founded\n",
    "            cv2.drawContours(mask2, contours, -1, 255, 2)\n",
    "\n",
    "            # find the biggest countour (c) by the area\n",
    "            c = max(contours, key = cv2.contourArea)\n",
    "            x2,y2,w2,h2 = cv2.boundingRect(c)\n",
    "        \n",
    "        cv2.circle(img=mask2, center = (x2,y2), radius =5, color =(100,0,100), thickness=-1)\n",
    "#         cv2.putText(mask2,\"1\",(x,y),cv2.FONT_HERSHEY_COMPLEX,3,(250,250,10),2)\n",
    "\n",
    "        cv2.circle(img=mask2, center = (x2+w2,y2+h2), radius =5, color =(255,0,100), thickness=-1)\n",
    "#         cv2.putText(mask2,\"2\",(x+w,y+h),cv2.FONT_HERSHEY_COMPLEX,3,(250,250,10),2)\n",
    "\n",
    "        cv2.circle(img=mask2, center = (x2+w2,y2), radius =5, color =(255,0,100), thickness=-1)\n",
    "#         cv2.putText(mask2,\"3\",(x+w,y),cv2.FONT_HERSHEY_COMPLEX,3,(250,250,10),2)\n",
    "\n",
    "        cv2.circle(img=mask2, center = (x2, y2+h2), radius =5, color =(255,0,100), thickness=-1)\n",
    "#         cv2.putText(mask2,\"4\",(x,y+h),cv2.FONT_HERSHEY_COMPLEX,3,(250,250,10),2)\n",
    "        display(mask2)\n",
    "        \n",
    "        \n",
    "        \n",
    "        # Draw contours + hull results\n",
    "        drawing = np.zeros((mask.shape[0], mask.shape[1], 3), dtype=np.uint8)\n",
    "        for i in range(len(contours)):\n",
    "            color = (rng.randint(0,256), rng.randint(0,256), rng.randint(0,256))\n",
    "            cv2.drawContours(drawing, contours, i, color)\n",
    "        # Show in a window\n",
    "        display(drawing)\n",
    "\n",
    "#####\n",
    "\n",
    "        cv2.circle(img=mask, center = (x,y), radius =5, color =(100,0,100), thickness=-1)\n",
    "        cv2.putText(mask,\"1\",(x,y),cv2.FONT_HERSHEY_COMPLEX,3,(250,250,10),2)\n",
    "\n",
    "        cv2.circle(img=mask, center = (x+w,y+h), radius =5, color =(255,0,100), thickness=-1)\n",
    "        cv2.putText(mask,\"2\",(x+w,y+h),cv2.FONT_HERSHEY_COMPLEX,3,(250,250,10),2)\n",
    "\n",
    "        cv2.circle(img=mask, center = (x+w,y), radius =5, color =(255,0,100), thickness=-1)\n",
    "        cv2.putText(mask,\"3\",(x+w,y),cv2.FONT_HERSHEY_COMPLEX,3,(250,250,10),2)\n",
    "\n",
    "        cv2.circle(img=mask, center = (x, y+h), radius =5, color =(255,0,100), thickness=-1)\n",
    "        cv2.putText(mask,\"4\",(x,y+h),cv2.FONT_HERSHEY_COMPLEX,3,(250,250,10),2)\n",
    "        display(mask)\n",
    "        plt.imshow(mask)      \n",
    "        \n",
    "        print(x,y)\n",
    "        print(x+w,y+h)\n",
    "        print(x+w,y)\n",
    "        print(x,y+h)\n",
    "\n",
    "        \n",
    "    def get_tv_corners(self):\n",
    "        pass\n",
    "    \n",
    "    tv_corner_top_right=0\n",
    "    tv_corner_top_left=0\n",
    "    tv_corner_bottom_left=0\n",
    "    tv_corner_bottom_right=0\n",
    "    \n",
    "    def affine_trans(self):\n",
    "        pass\n",
    "    \n",
    "    tv_top_strip=0\n",
    "    tv_top_right_corner=0\n",
    "    tv_top_left_corner=0\n",
    "    \n",
    "    currently_commercial=0\n",
    "    \n",
    "    # get 2 extreme points of each axis,\n",
    "    # makes a line segment out of them,\n",
    "    # finds the intersection of each 2 neghibors as a corner\n",
    "    \n",
    "\n",
    "\n",
    "\n",
    "\n",
    "    "
   ]
  },
  {
   "cell_type": "code",
   "execution_count": 66,
   "metadata": {},
   "outputs": [
    {
     "name": "stdout",
     "output_type": "stream",
     "text": [
      "Image similarity 0.8268132839466079\n",
      "<class 'numpy.ndarray'>\n",
      "278 160 487 247\n"
     ]
    },
    {
     "ename": "IndexError",
     "evalue": "index 205082 is out of bounds for axis 0 with size 720",
     "output_type": "error",
     "traceback": [
      "\u001b[1;31m---------------------------------------------------------------------------\u001b[0m",
      "\u001b[1;31mIndexError\u001b[0m                                Traceback (most recent call last)",
      "\u001b[1;32m<ipython-input-66-3304d3961d0f>\u001b[0m in \u001b[0;36m<module>\u001b[1;34m\u001b[0m\n\u001b[0;32m      1\u001b[0m \u001b[0mtest\u001b[0m\u001b[1;33m=\u001b[0m \u001b[0madMatay\u001b[0m\u001b[1;33m(\u001b[0m\u001b[1;33m)\u001b[0m\u001b[1;33m\u001b[0m\u001b[0m\n\u001b[1;32m----> 2\u001b[1;33m \u001b[0mtest\u001b[0m\u001b[1;33m.\u001b[0m\u001b[0mget_diff_frames\u001b[0m\u001b[1;33m(\u001b[0m\u001b[1;33m)\u001b[0m\u001b[1;33m\u001b[0m\u001b[0m\n\u001b[0m",
      "\u001b[1;32m<ipython-input-65-7c98dab234f7>\u001b[0m in \u001b[0;36mget_diff_frames\u001b[1;34m(self)\u001b[0m\n\u001b[0;32m     79\u001b[0m         \u001b[0mdisplay\u001b[0m\u001b[1;33m(\u001b[0m\u001b[0mmask\u001b[0m\u001b[1;33m)\u001b[0m\u001b[1;33m\u001b[0m\u001b[0m\n\u001b[0;32m     80\u001b[0m \u001b[1;33m\u001b[0m\u001b[0m\n\u001b[1;32m---> 81\u001b[1;33m         \u001b[0mself\u001b[0m\u001b[1;33m.\u001b[0m\u001b[0mget_corners\u001b[0m\u001b[1;33m(\u001b[0m\u001b[0mmask\u001b[0m\u001b[1;33m)\u001b[0m\u001b[1;33m\u001b[0m\u001b[0m\n\u001b[0m\u001b[0;32m     82\u001b[0m         \u001b[0mcv2\u001b[0m\u001b[1;33m.\u001b[0m\u001b[0mcircle\u001b[0m\u001b[1;33m(\u001b[0m\u001b[0mimg\u001b[0m\u001b[1;33m=\u001b[0m\u001b[0mmask\u001b[0m\u001b[1;33m,\u001b[0m \u001b[0mcenter\u001b[0m \u001b[1;33m=\u001b[0m \u001b[0mtop_right_intersection\u001b[0m\u001b[1;33m,\u001b[0m \u001b[0mradius\u001b[0m \u001b[1;33m=\u001b[0m\u001b[1;36m5\u001b[0m\u001b[1;33m,\u001b[0m \u001b[0mcolor\u001b[0m \u001b[1;33m=\u001b[0m\u001b[1;33m(\u001b[0m\u001b[1;36m100\u001b[0m\u001b[1;33m,\u001b[0m\u001b[1;36m100\u001b[0m\u001b[1;33m,\u001b[0m\u001b[1;36m100\u001b[0m\u001b[1;33m)\u001b[0m\u001b[1;33m,\u001b[0m \u001b[0mthickness\u001b[0m\u001b[1;33m=\u001b[0m\u001b[1;33m-\u001b[0m\u001b[1;36m1\u001b[0m\u001b[1;33m)\u001b[0m\u001b[1;33m\u001b[0m\u001b[0m\n\u001b[0;32m     83\u001b[0m         \u001b[0mcv2\u001b[0m\u001b[1;33m.\u001b[0m\u001b[0mcircle\u001b[0m\u001b[1;33m(\u001b[0m\u001b[0mimg\u001b[0m\u001b[1;33m=\u001b[0m\u001b[0mmask\u001b[0m\u001b[1;33m,\u001b[0m \u001b[0mcenter\u001b[0m \u001b[1;33m=\u001b[0m \u001b[0mtop_left_intersection\u001b[0m\u001b[1;33m,\u001b[0m \u001b[0mradius\u001b[0m \u001b[1;33m=\u001b[0m\u001b[1;36m5\u001b[0m\u001b[1;33m,\u001b[0m \u001b[0mcolor\u001b[0m \u001b[1;33m=\u001b[0m\u001b[1;33m(\u001b[0m\u001b[1;36m100\u001b[0m\u001b[1;33m,\u001b[0m\u001b[1;36m100\u001b[0m\u001b[1;33m,\u001b[0m\u001b[1;36m100\u001b[0m\u001b[1;33m)\u001b[0m\u001b[1;33m,\u001b[0m \u001b[0mthickness\u001b[0m\u001b[1;33m=\u001b[0m\u001b[1;33m-\u001b[0m\u001b[1;36m1\u001b[0m\u001b[1;33m)\u001b[0m\u001b[1;33m\u001b[0m\u001b[0m\n",
      "\u001b[1;32m<ipython-input-65-7c98dab234f7>\u001b[0m in \u001b[0;36mget_corners\u001b[1;34m(self, np_image)\u001b[0m\n\u001b[0;32m     18\u001b[0m         \u001b[0mtop2\u001b[0m    \u001b[1;33m=\u001b[0m\u001b[0mtuple\u001b[0m\u001b[1;33m(\u001b[0m\u001b[0mnp_image\u001b[0m\u001b[1;33m[\u001b[0m\u001b[0mnp_image\u001b[0m\u001b[1;33m[\u001b[0m\u001b[1;33m:\u001b[0m\u001b[1;33m,\u001b[0m \u001b[1;33m:\u001b[0m\u001b[1;33m,\u001b[0m \u001b[1;36m1\u001b[0m\u001b[1;33m]\u001b[0m\u001b[1;33m.\u001b[0m\u001b[0margmin\u001b[0m\u001b[1;33m(\u001b[0m\u001b[1;33m)\u001b[0m\u001b[1;33m]\u001b[0m\u001b[1;33m[\u001b[0m\u001b[1;36m1\u001b[0m\u001b[1;33m]\u001b[0m\u001b[1;33m)\u001b[0m\u001b[1;33m\u001b[0m\u001b[0m\n\u001b[0;32m     19\u001b[0m \u001b[1;33m\u001b[0m\u001b[0m\n\u001b[1;32m---> 20\u001b[1;33m         \u001b[0mbottom1\u001b[0m \u001b[1;33m=\u001b[0m \u001b[0mtuple\u001b[0m\u001b[1;33m(\u001b[0m\u001b[0mnp_image\u001b[0m\u001b[1;33m[\u001b[0m\u001b[0mnp_image\u001b[0m\u001b[1;33m[\u001b[0m\u001b[1;33m:\u001b[0m\u001b[1;33m,\u001b[0m \u001b[1;33m:\u001b[0m\u001b[1;33m,\u001b[0m \u001b[1;36m1\u001b[0m\u001b[1;33m]\u001b[0m\u001b[1;33m.\u001b[0m\u001b[0margmax\u001b[0m\u001b[1;33m(\u001b[0m\u001b[1;33m)\u001b[0m\u001b[1;33m]\u001b[0m\u001b[1;33m[\u001b[0m\u001b[1;36m0\u001b[0m\u001b[1;33m]\u001b[0m\u001b[1;33m)\u001b[0m\u001b[1;33m\u001b[0m\u001b[0m\n\u001b[0m\u001b[0;32m     21\u001b[0m         \u001b[0mbottom2\u001b[0m \u001b[1;33m=\u001b[0m \u001b[0mtuple\u001b[0m\u001b[1;33m(\u001b[0m\u001b[0mnp_image\u001b[0m\u001b[1;33m[\u001b[0m\u001b[0mnp_image\u001b[0m\u001b[1;33m[\u001b[0m\u001b[1;33m:\u001b[0m\u001b[1;33m,\u001b[0m \u001b[1;33m:\u001b[0m\u001b[1;33m,\u001b[0m \u001b[1;36m1\u001b[0m\u001b[1;33m]\u001b[0m\u001b[1;33m.\u001b[0m\u001b[0margmax\u001b[0m\u001b[1;33m(\u001b[0m\u001b[1;33m)\u001b[0m\u001b[1;33m]\u001b[0m\u001b[1;33m[\u001b[0m\u001b[1;36m1\u001b[0m\u001b[1;33m]\u001b[0m\u001b[1;33m)\u001b[0m\u001b[1;33m\u001b[0m\u001b[0m\n\u001b[0;32m     22\u001b[0m \u001b[1;33m\u001b[0m\u001b[0m\n",
      "\u001b[1;31mIndexError\u001b[0m: index 205082 is out of bounds for axis 0 with size 720"
     ]
    },
    {
     "data": {
      "image/png": "[encoded data removed]",
      "text/plain": [
       "<Figure size 864x720 with 1 Axes>"
      ]
     },
     "metadata": {
      "needs_background": "light"
     },
     "output_type": "display_data"
    }
   ],
   "source": [
    "test= adMatay()\n",
    "test.get_diff_frames()"
   ]
  },
  {
   "cell_type": "code",
   "execution_count": null,
   "metadata": {},
   "outputs": [],
   "source": [
    "def segment(frame, threshold=25):\n",
    "    \n",
    "    # Calculates the Absolute Differentce between the backgroud and the passed in frame\n",
    "#     diff = cv2.absdiff(background.astype(\"uint8\"), frame)\n",
    "\n",
    "    # Apply a threshold to the image so we can grab the foreground\n",
    "    # We only need the threshold, so we will throw away the first item in the tuple with an underscore _\n",
    "#     _ , thresholded = cv2.threshold(diff, threshold, 255, cv2.THRESH_BINARY)\n",
    "    \n",
    "    # Grab the external contours form the image\n",
    "    # Again, only grabbing what we need here and throwing away the rest\n",
    "    #image, contours, hierarchy = cv2.findContours(thresholded.copy(), cv2.RETR_EXTERNAL, cv2.CHAIN_APPROX_SIMPLE)\n",
    "    contours=test.mask_contours\n",
    "    \n",
    "    # If length of contours list is 0, then we didn't grab any contours!\n",
    "    if len(contours) == 0:\n",
    "        return None\n",
    "    else:\n",
    "        # Given the way we are using the program, the largest external contour should be the hand (largest by area)\n",
    "        # This will be our segment\n",
    "        hand_segment = max(contours, key=cv2.contourArea)\n",
    "        \n",
    "        # Return both the hand segment and the thresholded hand image\n",
    "        return hand_segment\n"
   ]
  },
  {
   "cell_type": "code",
   "execution_count": 23,
   "metadata": {},
   "outputs": [],
   "source": [
    "def count_fingers(thresholded, hand_segment):\n",
    "    \n",
    "    \n",
    "    # Calculated the convex hull of the hand segment\n",
    "    conv_hull = cv2.convexHull(hand_segment)\n",
    "    \n",
    "    # Now the convex hull will have at least 4 most outward points, on the top, bottom, left, and right.\n",
    "    # Let's grab those points by using argmin and argmax. Keep in mind, this would require reading the documentation\n",
    "    # And understanding the general array shape returned by the conv hull.\n",
    "\n",
    "    # Find the top, bottom, left , and right.\n",
    "    # Then make sure they are in tuple format\n",
    "    top    = tuple(conv_hull[conv_hull[:, :, 1].argmin()][0])\n",
    "    bottom = tuple(conv_hull[conv_hull[:, :, 1].argmax()][0])\n",
    "    left   = tuple(conv_hull[conv_hull[:, :, 0].argmin()][0])\n",
    "    right  = tuple(conv_hull[conv_hull[:, :, 0].argmax()][0])\n",
    "\n",
    "    # In theory, the center of the hand is half way between the top and bottom and halfway between left and right\n",
    "    cX = (left[0] + right[0]) // 2\n",
    "    cY = (top[1] + bottom[1]) // 2\n",
    "\n",
    "    # find the maximum euclidean distance between the center of the palm\n",
    "    # and the most extreme points of the convex hull\n",
    "    \n",
    "    # Calculate the Euclidean Distance between the center of the hand and the left, right, top, and bottom.\n",
    "    distance = pairwise.euclidean_distances([(cX, cY)], Y=[left, right, top, bottom])[0]\n",
    "    \n",
    "    # Grab the largest distance\n",
    "    max_distance = distance.max()\n",
    "    \n",
    "    # Create a circle with 90% radius of the max euclidean distance\n",
    "    radius = int(0.8 * max_distance)\n",
    "    circumference = (2 * np.pi * radius)\n",
    "\n",
    "    # Not grab an ROI of only that circle\n",
    "    circular_roi = np.zeros(thresholded.shape[:2], dtype=\"uint8\")\n",
    "    \n",
    "    # draw the circular ROI\n",
    "    cv2.circle(circular_roi, (cX, cY), radius, 255, 10)\n",
    "    \n",
    "    \n",
    "    # Using bit-wise AND with the cirle ROI as a mask.\n",
    "    # This then returns the cut out obtained using the mask on the thresholded hand image.\n",
    "#     circular_roi = cv2.bitwise_and(thresholded, thresholded, mask=circular_roi)\n",
    "\n",
    "    # Grab contours in circle ROI\n",
    "#     image, contours, hierarchy = cv2.findContours(circular_roi.copy(), cv2.RETR_EXTERNAL, cv2.CHAIN_APPROX_NONE)\n",
    "    contours=test.mask_contours\n",
    "\n",
    "    # Finger count starts at 0\n",
    "    count = 0\n",
    "    \n",
    "#     frame=test.mask_img.copy()\n",
    "    \n",
    "    # loop through the contours to see if we count any more fingers.\n",
    "    for cnt in contours:\n",
    "        \n",
    "        # Bounding box of countour\n",
    "        (x, y, w, h) = cv2.boundingRect(cnt)\n",
    "\n",
    "        # Increment count of fingers based on two conditions:\n",
    "        \n",
    "        # 1. Contour region is not the very bottom of hand area (the wrist)\n",
    "#         out_of_wrist = ((cY + (cY * 0.25)) > (y + h))\n",
    "        \n",
    "        # 2. Number of points along the contour does not exceed 25% of the circumference of the circular ROI (otherwise we're counting points off the hand)\n",
    "        limit_points = ((circumference * 0.25) < cnt.shape[0])\n",
    "        \n",
    "        cv2.circle(frame, (x, y), radius =5, color =(255,0,100), thickness=-1)\n",
    "\n",
    "\n",
    "#         if  out_of_wrist and limit_points:\n",
    "        count += 1\n",
    "    display(frame)\n",
    "    return count\n"
   ]
  },
  {
   "cell_type": "code",
   "execution_count": 24,
   "metadata": {},
   "outputs": [
    {
     "data": {
      "image/png": "[encoded data removed]",
      "text/plain": [
       "<Figure size 864x720 with 1 Axes>"
      ]
     },
     "metadata": {
      "needs_background": "light"
     },
     "output_type": "display_data"
    }
   ],
   "source": [
    "from sklearn.metrics import pairwise\n",
    "\n",
    "\n",
    "accumulated_weight = 0.5\n",
    "\n",
    "\n",
    "# Manually set up our ROI for grabbing the hand.\n",
    "# Feel free to change these. I just chose the top right corner for filming.\n",
    "roi_top = 20\n",
    "roi_bottom = test.mask_img.shape[0]\n",
    "roi_right = 0\n",
    "roi_left = test.mask_img.shape[1]\n",
    "\n",
    "\n",
    "# segment the hand region\n",
    "hand = segment(test.mask_img)\n",
    "# First check if we were able to actually detect a hand\n",
    "frame_copy=test.mask_img.copy()\n",
    "if hand is not None:\n",
    "\n",
    "    # unpack\n",
    "    thresholded = test.mask_img.copy()\n",
    "    hand_segment = hand\n",
    "\n",
    "    # Draw contours around hand segment\n",
    "    cv2.drawContours(thresholded, [hand_segment + (roi_right, roi_top)], -1, (255, 0, 0),2)\n",
    "\n",
    "    # Count the fingers\n",
    "#     fingers = count_fingers(thresholded, segment(thresholded))\n",
    "\n",
    "    # Display count\n",
    "#     cv2.putText(frame_copy, str(fingers), (70, 45), cv2.FONT_HERSHEY_SIMPLEX, 1, (0,0,255), 2)\n",
    "\n",
    "    # Also display the thresholded image\n",
    "    display(thresholded)\n",
    "    cv2.imwrite('process_results/thresholded.png', thresholded)\n",
    "\n"
   ]
  },
  {
   "cell_type": "code",
   "execution_count": 41,
   "metadata": {},
   "outputs": [
    {
     "name": "stdout",
     "output_type": "stream",
     "text": [
      "contours: 1280\n",
      "largest contour has  1280 points\n"
     ]
    },
    {
     "ename": "TypeError",
     "evalue": "curve is not a numpy array, neither a scalar",
     "output_type": "error",
     "traceback": [
      "\u001b[1;31m---------------------------------------------------------------------------\u001b[0m",
      "\u001b[1;31mTypeError\u001b[0m                                 Traceback (most recent call last)",
      "\u001b[1;32m<ipython-input-41-adebd320e078>\u001b[0m in \u001b[0;36m<module>\u001b[1;34m\u001b[0m\n\u001b[0;32m     29\u001b[0m \u001b[1;33m\u001b[0m\u001b[0m\n\u001b[0;32m     30\u001b[0m \u001b[1;32mfor\u001b[0m \u001b[0mc\u001b[0m \u001b[1;32min\u001b[0m \u001b[0mcontours\u001b[0m\u001b[1;33m:\u001b[0m\u001b[1;33m\u001b[0m\u001b[0m\n\u001b[1;32m---> 31\u001b[1;33m     \u001b[0mperi\u001b[0m \u001b[1;33m=\u001b[0m \u001b[0mcv2\u001b[0m\u001b[1;33m.\u001b[0m\u001b[0marcLength\u001b[0m\u001b[1;33m(\u001b[0m\u001b[0mc\u001b[0m\u001b[1;33m,\u001b[0m \u001b[1;32mTrue\u001b[0m\u001b[1;33m)\u001b[0m\u001b[1;33m\u001b[0m\u001b[0m\n\u001b[0m\u001b[0;32m     32\u001b[0m     \u001b[0mapprox\u001b[0m \u001b[1;33m=\u001b[0m \u001b[0mcv2\u001b[0m\u001b[1;33m.\u001b[0m\u001b[0mapproxPolyDP\u001b[0m\u001b[1;33m(\u001b[0m\u001b[0mc\u001b[0m\u001b[1;33m,\u001b[0m \u001b[1;36m0.02\u001b[0m \u001b[1;33m*\u001b[0m \u001b[0mperi\u001b[0m\u001b[1;33m,\u001b[0m \u001b[1;32mTrue\u001b[0m\u001b[1;33m)\u001b[0m\u001b[1;33m\u001b[0m\u001b[0m\n\u001b[0;32m     33\u001b[0m     \u001b[0mcv2\u001b[0m\u001b[1;33m.\u001b[0m\u001b[0mdrawContours\u001b[0m\u001b[1;33m(\u001b[0m\u001b[0msimplified\u001b[0m\u001b[1;33m,\u001b[0m \u001b[1;33m[\u001b[0m\u001b[0mapprox\u001b[0m\u001b[1;33m]\u001b[0m\u001b[1;33m,\u001b[0m \u001b[1;36m0\u001b[0m\u001b[1;33m,\u001b[0m \u001b[1;33m(\u001b[0m\u001b[1;36m255\u001b[0m\u001b[1;33m,\u001b[0m\u001b[1;36m255\u001b[0m\u001b[1;33m,\u001b[0m\u001b[1;36m255\u001b[0m\u001b[1;33m)\u001b[0m\u001b[1;33m,\u001b[0m \u001b[1;36m2\u001b[0m\u001b[1;33m)\u001b[0m\u001b[1;33m\u001b[0m\u001b[0m\n",
      "\u001b[1;31mTypeError\u001b[0m: curve is not a numpy array, neither a scalar"
     ]
    },
    {
     "data": {
      "image/png": "[encoded data removed]",
      "text/plain": [
       "<Figure size 864x720 with 1 Axes>"
      ]
     },
     "metadata": {
      "needs_background": "light"
     },
     "output_type": "display_data"
    },
    {
     "data": {
      "image/png": "[encoded data removed]",
      "text/plain": [
       "<Figure size 864x720 with 1 Axes>"
      ]
     },
     "metadata": {
      "needs_background": "light"
     },
     "output_type": "display_data"
    },
    {
     "data": {
      "image/png": "[encoded data removed]",
      "text/plain": [
       "<Figure size 864x720 with 1 Axes>"
      ]
     },
     "metadata": {
      "needs_background": "light"
     },
     "output_type": "display_data"
    }
   ],
   "source": [
    "# threshold image\n",
    "img=cv2.imread('process_results/thresholded.png',0)\n",
    "display(img)\n",
    "# threshold image\n",
    "ret,thresh = cv2.threshold(img,0,255,0)\n",
    "display(thresh)\n",
    "# dilate thresholded image - merges top/bottom \n",
    "kernel = np.ones((3,3), np.uint8)\n",
    "dilated = cv2.dilate(thresh, kernel, iterations=3)\n",
    "#cv2.imshow('threshold dilated',dilated)\n",
    "display(dilated)\n",
    "\n",
    "# find contours\n",
    "contours = cv2.findContours(thresh, cv2.RETR_EXTERNAL, cv2.CHAIN_APPROX_SIMPLE)[0]\n",
    "contours = contours[0] if imutils.is_cv2() else contours[1]\n",
    "# contours_ = contours[0] if imutils.is_cv2() else contours[1]\n",
    "\n",
    "# cv2.drawContours(img, contours, 0, (255,255,255), 3)\n",
    "print (\"contours:\",len(contours))\n",
    "print (\"largest contour has \",len(contours),\"points\")\n",
    "\n",
    "gray_image = cv2.convertScaleAbs(thresh)\n",
    "# simplify contours\n",
    "# epsilon = 0.1*cv2.arcLength(gray_image,True)\n",
    "# approx = cv2.approxPolyDP(contours,epsilon,True)\n",
    "simplified=img.copy()\n",
    "# cv2.drawContours(simplified, [approx], 0, (255,255,255), 2)\n",
    "# print (\"simplified contour has\",len(approx),\"points \", epsilon)\n",
    "\n",
    "for c in contours:\n",
    "    peri = cv2.arcLength(c, True)\n",
    "    approx = cv2.approxPolyDP(c, 0.02 * peri, True)\n",
    "    cv2.drawContours(simplified, [approx], 0, (255,255,255), 2)\n",
    "\n",
    "display(simplified)\n"
   ]
  },
  {
   "cell_type": "code",
   "execution_count": 1,
   "metadata": {},
   "outputs": [],
   "source": [
    "def totuple(a):\n",
    "    try:\n",
    "        return tuple(totuple(i) for i in a)\n",
    "    except TypeError:\n",
    "        return a"
   ]
  },
  {
   "cell_type": "code",
   "execution_count": 14,
   "metadata": {},
   "outputs": [
    {
     "name": "stdout",
     "output_type": "stream",
     "text": [
      "[[[444 717]]\n",
      "\n",
      " [[444 719]]\n",
      "\n",
      " [[447 719]]\n",
      "\n",
      " [[446 717]]] 0.9414213538169861\n",
      "simplified contour has 4 points\n",
      "[[[447 719]]\n",
      "\n",
      " [[444 719]]\n",
      "\n",
      " [[444 717]]\n",
      "\n",
      " [[446 717]]\n",
      "\n",
      " [[447 718]]]\n"
     ]
    },
    {
     "data": {
      "image/png": "[encoded data removed]",
      "text/plain": [
       "<Figure size 864x720 with 1 Axes>"
      ]
     },
     "metadata": {
      "needs_background": "light"
     },
     "output_type": "display_data"
    },
    {
     "data": {
      "image/png": "[encoded data removed]",
      "text/plain": [
       "<Figure size 864x720 with 1 Axes>"
      ]
     },
     "metadata": {
      "needs_background": "light"
     },
     "output_type": "display_data"
    }
   ],
   "source": [
    "contours=test.mask_contours\n",
    "img=test.mask_img.copy()\n",
    "hull = cv2.convexHull(contours[0])\n",
    "cv2.drawContours(img, [hull], 0, (100,0,100), 3)\n",
    "display(img)\n",
    "epsilon = 0.1*cv2.arcLength(contours[0],True)\n",
    "approx = cv2.approxPolyDP(contours[0],epsilon,True)\n",
    "cv2.drawContours(img, [approx], 0, (255,255,255), 3)\n",
    "display(img)\n",
    "print(approx, epsilon)\n",
    "print (\"simplified contour has\",len(approx),\"points\")\n",
    "# display output \n",
    "cv2.circle(img, center =(444, 717), radius =10,  color =(100,100,100), thickness=-1)\n",
    "# cv2.putText(mask,\"1\",(x,y),cv2.FONT_HERSHEY_COMPLEX,3,(250,250,10),2)\n",
    "\n",
    "cv2.circle(img,(444, 719), radius =10, color =(100,100,100), thickness=-1)\n",
    "# cv2.putText(mask,\"2\",(x+w,y+h),cv2.FONT_HERSHEY_COMPLEX,3,(250,250,10),2)\n",
    "\n",
    "cv2.circle(img, (447, 719), radius =10,  color =(100,100,100), thickness=-1)\n",
    "# cv2.putText(mask,\"3\",(x+w,y),cv2.FONT_HERSHEY_COMPLEX,3,(250,250,10),2)\n",
    "\n",
    "cv2.circle(img, (446, 717), radius =10, color =(100,100,100), thickness=-1)\n",
    "\n",
    "\n",
    "print(hull)"
   ]
  },
  {
   "cell_type": "code",
   "execution_count": 17,
   "metadata": {},
   "outputs": [],
   "source": []
  },
  {
   "cell_type": "code",
   "execution_count": 98,
   "metadata": {},
   "outputs": [
    {
     "data": {
      "text/plain": [
       "array([[765., 160.],\n",
       "       [278., 160.],\n",
       "       [278., 407.],\n",
       "       [765., 407.]])"
      ]
     },
     "execution_count": 98,
     "metadata": {},
     "output_type": "execute_result"
    }
   ],
   "source": [
    "minimum_bounding_rectangle(points)"
   ]
  },
  {
   "cell_type": "code",
   "execution_count": null,
   "metadata": {},
   "outputs": [],
   "source": [
    "import matplotlib.pyplot as plt\n",
    "plt.scatter(points[:,0], points[:,1])\n",
    "bbox = minimum_bounding_rectangle(points)\n",
    "plt.fill(bbox[:,0], bbox[:,1], alpha=0.2)\n",
    "plt.axis('equal')\n",
    "plt.show()\n",
    "\n",
    "\n",
    "mask=test.mask_img\n",
    "cv2.circle(img=mask, center = tuple(points[0]), radius =10, color =(0,200,0), thickness=-1)\n",
    "# cv2.putText(mask,\"1\",(x,y),cv2.FONT_HERSHEY_COMPLEX,3,(250,250,10),2)\n",
    "\n",
    "cv2.circle(img=mask, center = tuple(points[1]), radius =10, color =(0,200,0), thickness=-1)\n",
    "# cv2.putText(mask,\"2\",(x+w,y+h),cv2.FONT_HERSHEY_COMPLEX,3,(250,250,10),2)\n",
    "\n",
    "cv2.circle(img=mask, center = tuple(points[2]), radius =10, color =(0,200,0), thickness=-1)\n",
    "# cv2.putText(mask,\"3\",(x+w,y),cv2.FONT_HERSHEY_COMPLEX,3,(250,250,10),2)\n",
    "\n",
    "cv2.circle(img=mask, center = tuple(points[3]), radius =10, color =(0,200,0), thickness=-1)\n",
    "# cv2.putText(mask,\"4\",(x,y+h),cv2.FONT_HERSHEY_COMPLEX,3,(250,250,10),2)\n",
    "display(mask)"
   ]
  }
 ],
 "metadata": {
  "kernelspec": {
   "display_name": "Python 3",
   "language": "python",
   "name": "python3"
  },
  "language_info": {
   "codemirror_mode": {
    "name": "ipython",
    "version": 3
   },
   "file_extension": ".py",
   "mimetype": "text/x-python",
   "name": "python",
   "nbconvert_exporter": "python",
   "pygments_lexer": "ipython3",
   "version": "3.6.6"
  }
 },
 "nbformat": 4,
 "nbformat_minor": 2
}
